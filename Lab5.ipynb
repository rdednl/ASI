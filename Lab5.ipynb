{
 "cells": [
  {
   "cell_type": "markdown",
   "metadata": {},
   "source": [
    "<div class=\"alert alert-success\">\n",
    "<h1>Feature Selection Lab</h1>\n",
    "<h2>ASI Lab - 01/06/2017</h2>\n",
    "</div>"
   ]
  },
  {
   "cell_type": "markdown",
   "metadata": {},
   "source": [
    "<h2>1. Aims</h2>\n",
    "<p>\n",
    "<ul>\n",
    "<li>To pick some features from the leukaemia data.\n",
    "</ul>"
   ]
  },
  {
   "cell_type": "code",
   "execution_count": 93,
   "metadata": {
    "collapsed": true
   },
   "outputs": [],
   "source": [
    "import numpy as np\n",
    "import matplotlib.pyplot as plt\n",
    "import matplotlib.cm as cm\n",
    "import seaborn as sns\n",
    "import scipy\n",
    "import scipy.io as sio\n",
    "import time as time\n",
    "%matplotlib inline\n",
    "\n",
    "plt.rcParams['figure.figsize'] = (20.0, 10.0)"
   ]
  },
  {
   "cell_type": "markdown",
   "metadata": {},
   "source": [
    "<h2>2. Feature Selection</h2>"
   ]
  },
  {
   "cell_type": "markdown",
   "metadata": {},
   "source": [
    "Like last week, this lab is quite open-ended. On the course webpage, you can download a (slightly reduced) version of the leukaemia data. It consists of some training data $X$ and associated labels $t$ as well as independent test data $X_test$ and $t_test$. Your task is to select some features and classify the data – in previous labs we have provided code for classiﬁcation (SVM, KNN, Bayes) and you may use whichever you like."
   ]
  },
  {
   "cell_type": "markdown",
   "metadata": {},
   "source": [
    "<div class=\"alert alert-warning\">\n",
    "Let's load the data from the <code>labdata.mat</code> file.\n",
    "</div>"
   ]
  },
  {
   "cell_type": "code",
   "execution_count": 94,
   "metadata": {
    "collapsed": true
   },
   "outputs": [],
   "source": [
    "data = sio.loadmat('./Lab5/labdata.mat')\n",
    "X = data['X']\n",
    "X_test = data['X_test']\n",
    "t = data['t']\n",
    "t_test = data['t_test']"
   ]
  },
  {
   "cell_type": "markdown",
   "metadata": {},
   "source": [
    "<h3>2.1 Feature Selection</h3>"
   ]
  },
  {
   "cell_type": "markdown",
   "metadata": {},
   "source": [
    "You are free to use any of the feature selection schemes we covered in class – scoring the features, PCA, or clustering them (you should have K-means code from last week to do this). In each case, you should use the test set to investigate how performance varies as you change the number."
   ]
  },
  {
   "cell_type": "markdown",
   "metadata": {},
   "source": [
    "<h4>2.1.1 Scoring</h4>"
   ]
  },
  {
   "cell_type": "markdown",
   "metadata": {},
   "source": [
    "Use the score described in the lectures (only on the training data) to get a set of features (corre-sponding to a subset of the original ones). You should make sure you extract this subset from the test data too!"
   ]
  },
  {
   "cell_type": "code",
   "execution_count": 95,
   "metadata": {
    "collapsed": true
   },
   "outputs": [],
   "source": [
    "def compute_s(X, t):\n",
    "    for i in range(X.size):\n",
    "        train_x = np.delete(X, i)\n",
    "        train_t = np.delete(t, i)\n",
    "        pred = makePredictions(train_x, train_t, test_x, k)\n",
    "    X_0 = np.array([X[_] for _ in range(len(X)) if t[_]==0])\n",
    "    X_1 = np.array([X[_] for _ in range(len(X)) if t[_]==1])\n",
    "    s = np.abs(X_1.mean() - X_0.mean())/(X_0.var() - X_1.var())\n",
    "    return s"
   ]
  },
  {
   "cell_type": "code",
   "execution_count": 118,
   "metadata": {},
   "outputs": [
    {
     "data": {
      "text/plain": [
       "38"
      ]
     },
     "execution_count": 118,
     "metadata": {},
     "output_type": "execute_result"
    }
   ],
   "source": [
    "X[:,1].size"
   ]
  },
  {
   "cell_type": "code",
   "execution_count": 96,
   "metadata": {},
   "outputs": [],
   "source": [
    "def get_best_features(X):\n",
    "    s = []\n",
    "    for x in range(X.shape[1]):\n",
    "        s.append((compute_s(X[:,x], t), x))\n",
    "    s.sort(key=lambda x : x[0], reverse=True)\n",
    "    return np.array([x[1] for x in s])"
   ]
  },
  {
   "cell_type": "code",
   "execution_count": 97,
   "metadata": {},
   "outputs": [],
   "source": [
    "best_features_scoring = get_best_features(X)"
   ]
  },
  {
   "cell_type": "code",
   "execution_count": 116,
   "metadata": {},
   "outputs": [
    {
     "data": {
      "image/png": "[encoded data removed]",
      "text/plain": [
       "<matplotlib.figure.Figure at 0x113f303c8>"
      ]
     },
     "metadata": {},
     "output_type": "display_data"
    }
   ],
   "source": [
    "plt.figure(figsize=(10,10))\n",
    "plt.scatter(X[:,best_features_scoring[0]], X[:,best_features_scoring[1]], c=t, cmap=cm.Spectral)\n",
    "plt.show()"
   ]
  },
  {
   "cell_type": "code",
   "execution_count": 98,
   "metadata": {},
   "outputs": [
    {
     "data": {
      "text/plain": [
       "array([196, 200,  22, 142, 280, 136,  29, 250, 223, 162, 193,  68, 203,\n",
       "        83, 271, 278,  82, 295,  18, 256,  16, 124,  70, 176, 218, 106,\n",
       "        48, 231,  54,  41, 224,  71, 119,  10,  47, 253, 121,  12,  67,\n",
       "       144, 246, 104, 166,  33, 157, 174, 254, 125, 198, 158,  80, 285,\n",
       "       190,  26,  98,  39, 227, 248,  20, 143, 141,  21,  30, 237, 214,\n",
       "       135,  17, 262,   7,  96, 178, 270, 115,  77, 129, 257,  45, 187,\n",
       "       131, 184,  55,  31, 123, 260,  85,  90, 282, 139, 132, 137,  11,\n",
       "       168,   8, 105,  32,   1, 299,  36, 274,  52, 258, 284, 242, 163,\n",
       "       116,  28, 213,  64, 281, 221, 122, 251,  84, 273, 111, 127, 240,\n",
       "       108, 206, 244,  72, 171,  60, 112, 265, 298, 180, 199, 110, 255,\n",
       "        65, 117,  97,  74, 294, 147, 287, 272, 165, 177, 153, 266, 148,\n",
       "        44,  40,  75, 149, 118,  94, 150, 235, 230,  23, 261, 283, 155,\n",
       "       263,  62, 145,  79,  35, 233, 211,  66, 297, 202, 102,  89, 159,\n",
       "       207, 293, 183, 243,  76,  51,  58, 170, 188,  87, 107, 114, 126,\n",
       "        53, 291, 217, 182, 152, 173, 269, 130, 189, 275, 232, 181, 279,\n",
       "        34, 245, 222, 201, 185,  63, 204,  88,  38, 276, 169, 128, 219,\n",
       "       264,   9, 292, 209, 138, 154,  92, 100,  69, 205,  81, 216,  14,\n",
       "       249, 228,  61, 267, 247,  46, 133, 241, 186,  56, 286, 101,  86,\n",
       "       194, 195, 134,   3, 113,  59,  95, 151, 192, 239, 164, 156,  57,\n",
       "        99,  37, 191, 289, 146,  43,  73,  93,  42,  25,  24, 120, 103,\n",
       "        78, 288,   6, 220, 290, 208, 210, 226, 175, 161, 109, 234, 277,\n",
       "       172,  27, 259, 252, 197, 160,   2, 238,   5, 140, 268, 225,   0,\n",
       "       212, 167,  15,  50,  91,  49, 229, 215, 179, 236,  19,  13,   4, 296])"
      ]
     },
     "execution_count": 98,
     "metadata": {},
     "output_type": "execute_result"
    }
   ],
   "source": [
    "best_features_scoring"
   ]
  },
  {
   "cell_type": "markdown",
   "metadata": {},
   "source": [
    "<h4>2.1.2 Clustering</h4>"
   ]
  },
  {
   "cell_type": "markdown",
   "metadata": {},
   "source": [
    "You can use the K-means code you wrote last week. Remember to pass the data the correct way around and only cluster the training data. Transforming the test data is a little more complex –your kmeans should give you assignments of features to clusters. Use these alongside the test data to compute the cluster means for the test data (you do not need to re-assign the clusterings)."
   ]
  },
  {
   "cell_type": "code",
   "execution_count": 99,
   "metadata": {
    "collapsed": true
   },
   "outputs": [],
   "source": [
    "def euclidean_distance(p1, p2):\n",
    "    return np.linalg.norm(np.array(p1)-np.array(p2))\n",
    "\n",
    "def find_closest_centroid(datapoint, centroids):\n",
    "    # find the index of the closest centroid of the given data point.\n",
    "    distances = [euclidean_distance(datapoint, _) for _ in centroids]\n",
    "    return np.argmin(distances)\n",
    "\n",
    "def randomize_centroids(data, k):\n",
    "    centroids = data\n",
    "    np.random.shuffle(centroids)\n",
    "    return centroids[:k]\n",
    "\n",
    "MAX_ITERATIONS = 500\n",
    "\n",
    "def check_converge(centroids, old_centroids, num_iterations, threshold=0):\n",
    "    # if it reaches an iteration budget\n",
    "    if num_iterations > MAX_ITERATIONS:\n",
    "        return True\n",
    "    # check if the centroids don't move (or very slightly)\n",
    "    dist = [euclidean_distance(curr, old) for curr, old in zip(centroids, old_centroids)]\n",
    "    if all(dist[x]<=threshold for x in range(len(dist))):\n",
    "        return True\n",
    "    return False\n",
    "\n",
    "def update_centroids(centroids, cluster):\n",
    "    for i, c in enumerate(cluster):\n",
    "        centroids[i] = sum(c)/len(c)\n",
    "    return centroids"
   ]
  },
  {
   "cell_type": "code",
   "execution_count": 100,
   "metadata": {
    "collapsed": true
   },
   "outputs": [],
   "source": [
    "# data : set of data points\n",
    "# k : number of clusters\n",
    "# centroids: initial list of centroids\n",
    "def kmeans(data, k=2, centroids=None):\n",
    "    \n",
    "    # randomize the centroids if they are not given\n",
    "    if not centroids:\n",
    "        centroids = randomize_centroids(data, k)\n",
    "\n",
    "    old_centroids = centroids[:]\n",
    "\n",
    "    iterations = 0\n",
    "    while True:\n",
    "        iterations += 1\n",
    "\n",
    "        # init empty clusters\n",
    "        clusters = [[] for i in range(k)]\n",
    "\n",
    "        # assign each data point to the closest centroid\n",
    "        for point in data:\n",
    "            # find the closest center of each data point\n",
    "            centroid_idx = find_closest_centroid(point, centroids)\n",
    "            \n",
    "            # assign datapoint to the closest cluster\n",
    "            clusters[centroid_idx].append(point)\n",
    "        \n",
    "        # keep the current position of centroids before changing them\n",
    "        old_centroids = centroids[:]\n",
    "        \n",
    "        # update centroids\n",
    "        centroids = update_centroids(clusters, clusters)\n",
    "        \n",
    "        # if the stop criteria are met, stop the algorithm\n",
    "        if check_converge(centroids, old_centroids, iterations):\n",
    "            break\n",
    "    return np.array(centroids), iterations"
   ]
  },
  {
   "cell_type": "code",
   "execution_count": 104,
   "metadata": {
    "collapsed": true
   },
   "outputs": [],
   "source": [
    "new_data = kmeans(data=X.T)[0].T"
   ]
  },
  {
   "cell_type": "code",
   "execution_count": 108,
   "metadata": {},
   "outputs": [
    {
     "data": {
      "image/png": "[encoded data removed]",
      "text/plain": [
       "<matplotlib.figure.Figure at 0x10b883630>"
      ]
     },
     "metadata": {},
     "output_type": "display_data"
    }
   ],
   "source": [
    "plt.figure(figsize=(10,10))\n",
    "plt.scatter(new_data[:,0], new_data[:,1], c=t, cmap=cm.Spectral)\n",
    "plt.show()"
   ]
  },
  {
   "cell_type": "code",
   "execution_count": 82,
   "metadata": {
    "scrolled": false
   },
   "outputs": [],
   "source": [
    "def plot_kmeans(data):\n",
    "    fig, axes = plt.subplots(2,2)\n",
    "    for k, ax in zip([2,3,4,5], axes.flatten()):\n",
    "        t0 = time.time()\n",
    "        centroids, iterations = kmeans(data, k=k)\n",
    "        t1 = time.time()\n",
    "        labels = [find_closest_centroid(x, centroids) for x in data]\n",
    "\n",
    "        #PLOTTING\n",
    "        #plt.title(\"K-means with k=\" + str(k) + \" time=\" + str(t1-t0) + \" iterations=\" + str(iterations))\n",
    "        ax.set_title(\"K-means with k=\" + str(k) + \" time=\" + str(t1-t0) + \" iterations=\" + str(iterations))\n",
    "\n",
    "        ax.scatter(data[:,0], data[:,1], c=labels, cmap=cm.Spectral)\n",
    "\n",
    "        ax.scatter(centroids[:,0], centroids[:,1], c=np.arange(k), cmap=cm.Spectral, s=300)\n",
    "        ax.axis([-6,6,-6,6])\n",
    "    plt.show()"
   ]
  },
  {
   "cell_type": "code",
   "execution_count": null,
   "metadata": {
    "collapsed": true
   },
   "outputs": [],
   "source": [
    "plt.rcParams['figure.figsize'] = (20.0, 20.0)\n",
    "plot_kmeans(X.T)"
   ]
  },
  {
   "cell_type": "code",
   "execution_count": null,
   "metadata": {
    "collapsed": true
   },
   "outputs": [],
   "source": []
  }
 ],
 "metadata": {
  "kernelspec": {
   "display_name": "Python 3",
   "language": "python",
   "name": "python3"
  },
  "language_info": {
   "codemirror_mode": {
    "name": "ipython",
    "version": 3
   },
   "file_extension": ".py",
   "mimetype": "text/x-python",
   "name": "python",
   "nbconvert_exporter": "python",
   "pygments_lexer": "ipython3",
   "version": "3.6.0"
  }
 },
 "nbformat": 4,
 "nbformat_minor": 2
}
